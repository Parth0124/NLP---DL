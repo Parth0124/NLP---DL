{
 "cells": [
  {
   "cell_type": "code",
   "execution_count": 28,
   "metadata": {},
   "outputs": [],
   "source": [
    "corpus=\"\"\"Hello world, This is my tokenization's code example i am happy tp learn about machine learning, nlp and dl. \n",
    "this is my second sentence! Please subscribe.\n",
    "\"\"\""
   ]
  },
  {
   "cell_type": "code",
   "execution_count": 29,
   "metadata": {},
   "outputs": [
    {
     "data": {
      "text/plain": [
       "\"Hello world, This is my tokenization's code example i am happy tp learn about machine learning, nlp and dl. \\nthis is my second sentence! Please subscribe.\\n\""
      ]
     },
     "execution_count": 29,
     "metadata": {},
     "output_type": "execute_result"
    }
   ],
   "source": [
    "corpus"
   ]
  },
  {
   "cell_type": "code",
   "execution_count": 30,
   "metadata": {},
   "outputs": [
    {
     "name": "stdout",
     "output_type": "stream",
     "text": [
      "Hello world, This is my tokenization's code example i am happy tp learn about machine learning, nlp and dl. \n",
      "this is my second sentence! Please subscribe.\n",
      "\n"
     ]
    }
   ],
   "source": [
    "print(corpus)"
   ]
  },
  {
   "cell_type": "code",
   "execution_count": 31,
   "metadata": {},
   "outputs": [],
   "source": [
    "### tokeniszation(paragraph-->sentence)\n",
    "\n",
    "from nltk.tokenize import sent_tokenize\n",
    "from nltk.downloader import download"
   ]
  },
  {
   "cell_type": "code",
   "execution_count": 32,
   "metadata": {},
   "outputs": [
    {
     "name": "stderr",
     "output_type": "stream",
     "text": [
      "[nltk_data] Downloading package punkt to\n",
      "[nltk_data]     /Users/parthabhang/nltk_data...\n",
      "[nltk_data]   Package punkt is already up-to-date!\n"
     ]
    },
    {
     "data": {
      "text/plain": [
       "True"
      ]
     },
     "execution_count": 32,
     "metadata": {},
     "output_type": "execute_result"
    }
   ],
   "source": [
    "download('punkt')"
   ]
  },
  {
   "cell_type": "code",
   "execution_count": 33,
   "metadata": {},
   "outputs": [],
   "source": [
    "documents=sent_tokenize(corpus)"
   ]
  },
  {
   "cell_type": "code",
   "execution_count": 34,
   "metadata": {},
   "outputs": [
    {
     "name": "stdout",
     "output_type": "stream",
     "text": [
      "Hello world, This is my tokenization's code example i am happy tp learn about machine learning, nlp and dl.\n",
      "this is my second sentence!\n",
      "Please subscribe.\n"
     ]
    }
   ],
   "source": [
    "for sentence in documents:\n",
    "    print(sentence)"
   ]
  },
  {
   "cell_type": "code",
   "execution_count": 35,
   "metadata": {},
   "outputs": [
    {
     "data": {
      "text/plain": [
       "[\"Hello world, This is my tokenization's code example i am happy tp learn about machine learning, nlp and dl.\",\n",
       " 'this is my second sentence!',\n",
       " 'Please subscribe.']"
      ]
     },
     "execution_count": 35,
     "metadata": {},
     "output_type": "execute_result"
    }
   ],
   "source": [
    "documents"
   ]
  },
  {
   "cell_type": "code",
   "execution_count": 36,
   "metadata": {},
   "outputs": [
    {
     "data": {
      "text/plain": [
       "list"
      ]
     },
     "execution_count": 36,
     "metadata": {},
     "output_type": "execute_result"
    }
   ],
   "source": [
    "type(documents)"
   ]
  },
  {
   "cell_type": "code",
   "execution_count": 37,
   "metadata": {},
   "outputs": [],
   "source": [
    "from nltk.tokenize import word_tokenize"
   ]
  },
  {
   "cell_type": "code",
   "execution_count": 38,
   "metadata": {},
   "outputs": [],
   "source": [
    "words=word_tokenize(corpus)"
   ]
  },
  {
   "cell_type": "code",
   "execution_count": 42,
   "metadata": {},
   "outputs": [
    {
     "data": {
      "text/plain": [
       "['Hello',\n",
       " 'world',\n",
       " ',',\n",
       " 'This',\n",
       " 'is',\n",
       " 'my',\n",
       " 'tokenization',\n",
       " \"'s\",\n",
       " 'code',\n",
       " 'example',\n",
       " 'i',\n",
       " 'am',\n",
       " 'happy',\n",
       " 'tp',\n",
       " 'learn',\n",
       " 'about',\n",
       " 'machine',\n",
       " 'learning',\n",
       " ',',\n",
       " 'nlp',\n",
       " 'and',\n",
       " 'dl',\n",
       " '.',\n",
       " 'this',\n",
       " 'is',\n",
       " 'my',\n",
       " 'second',\n",
       " 'sentence',\n",
       " '!',\n",
       " 'Please',\n",
       " 'subscribe',\n",
       " '.']"
      ]
     },
     "execution_count": 42,
     "metadata": {},
     "output_type": "execute_result"
    }
   ],
   "source": [
    "words"
   ]
  },
  {
   "cell_type": "code",
   "execution_count": 39,
   "metadata": {},
   "outputs": [
    {
     "name": "stdout",
     "output_type": "stream",
     "text": [
      "Hello\n",
      "world\n",
      ",\n",
      "This\n",
      "is\n",
      "my\n",
      "tokenization\n",
      "'s\n",
      "code\n",
      "example\n",
      "i\n",
      "am\n",
      "happy\n",
      "tp\n",
      "learn\n",
      "about\n",
      "machine\n",
      "learning\n",
      ",\n",
      "nlp\n",
      "and\n",
      "dl\n",
      ".\n",
      "this\n",
      "is\n",
      "my\n",
      "second\n",
      "sentence\n",
      "!\n",
      "Please\n",
      "subscribe\n",
      ".\n"
     ]
    }
   ],
   "source": [
    "for word in words:\n",
    "    print(word)"
   ]
  },
  {
   "cell_type": "code",
   "execution_count": 40,
   "metadata": {},
   "outputs": [],
   "source": [
    "from nltk.tokenize import wordpunct_tokenize"
   ]
  },
  {
   "cell_type": "code",
   "execution_count": 41,
   "metadata": {},
   "outputs": [
    {
     "data": {
      "text/plain": [
       "['Hello',\n",
       " 'world',\n",
       " ',',\n",
       " 'This',\n",
       " 'is',\n",
       " 'my',\n",
       " 'tokenization',\n",
       " \"'\",\n",
       " 's',\n",
       " 'code',\n",
       " 'example',\n",
       " 'i',\n",
       " 'am',\n",
       " 'happy',\n",
       " 'tp',\n",
       " 'learn',\n",
       " 'about',\n",
       " 'machine',\n",
       " 'learning',\n",
       " ',',\n",
       " 'nlp',\n",
       " 'and',\n",
       " 'dl',\n",
       " '.',\n",
       " 'this',\n",
       " 'is',\n",
       " 'my',\n",
       " 'second',\n",
       " 'sentence',\n",
       " '!',\n",
       " 'Please',\n",
       " 'subscribe',\n",
       " '.']"
      ]
     },
     "execution_count": 41,
     "metadata": {},
     "output_type": "execute_result"
    }
   ],
   "source": [
    "wordpunct_tokenize(corpus)"
   ]
  },
  {
   "cell_type": "code",
   "execution_count": 49,
   "metadata": {},
   "outputs": [],
   "source": [
    "from nltk.tokenize import TreebankWordTokenizer"
   ]
  },
  {
   "cell_type": "code",
   "execution_count": 50,
   "metadata": {},
   "outputs": [],
   "source": [
    "tokenizer=TreebankWordTokenizer()"
   ]
  },
  {
   "cell_type": "code",
   "execution_count": 51,
   "metadata": {},
   "outputs": [],
   "source": [
    "tree_tokenize=tokenizer.tokenize(corpus)"
   ]
  },
  {
   "cell_type": "code",
   "execution_count": 52,
   "metadata": {},
   "outputs": [
    {
     "name": "stdout",
     "output_type": "stream",
     "text": [
      "['Hello', 'world', ',', 'This', 'is', 'my', 'tokenization', \"'s\", 'code', 'example', 'i', 'am', 'happy', 'tp', 'learn', 'about', 'machine', 'learning', ',', 'nlp', 'and', 'dl.', 'this', 'is', 'my', 'second', 'sentence', '!', 'Please', 'subscribe', '.']\n"
     ]
    }
   ],
   "source": [
    "print(tree_tokenize)"
   ]
  },
  {
   "cell_type": "code",
   "execution_count": null,
   "metadata": {},
   "outputs": [],
   "source": []
  }
 ],
 "metadata": {
  "kernelspec": {
   "display_name": "base",
   "language": "python",
   "name": "python3"
  },
  "language_info": {
   "codemirror_mode": {
    "name": "ipython",
    "version": 3
   },
   "file_extension": ".py",
   "mimetype": "text/x-python",
   "name": "python",
   "nbconvert_exporter": "python",
   "pygments_lexer": "ipython3",
   "version": "3.12.4"
  }
 },
 "nbformat": 4,
 "nbformat_minor": 2
}
